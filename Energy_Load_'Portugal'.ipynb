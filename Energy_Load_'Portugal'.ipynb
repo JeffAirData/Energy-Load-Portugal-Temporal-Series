{
  "nbformat": 4,
  "nbformat_minor": 0,
  "metadata": {
    "colab": {
      "provenance": [],
      "authorship_tag": "ABX9TyNvbzckhYbrpXlTH2gr3QWZ",
      "include_colab_link": true
    },
    "kernelspec": {
      "name": "python3",
      "display_name": "Python 3"
    },
    "language_info": {
      "name": "python"
    }
  },
  "cells": [
    {
      "cell_type": "markdown",
      "metadata": {
        "id": "view-in-github",
        "colab_type": "text"
      },
      "source": [
        "<a href=\"https://colab.research.google.com/github/JeffAirData/Energy-Load-Portugal-Temporal-Series/blob/main/Energy_Load_'Portugal'.ipynb\" target=\"_parent\"><img src=\"https://colab.research.google.com/assets/colab-badge.svg\" alt=\"Open In Colab\"/></a>"
      ]
    },
    {
      "cell_type": "markdown",
      "source": [
        "#**Energy Load 'Portugal'**\n",
        "**TEMPORAL SERIES:**"
      ],
      "metadata": {
        "id": "Eq__41g-fGm3"
      }
    },
    {
      "cell_type": "markdown",
      "source": [
        "###*Jefferson Oliveira Melo*"
      ],
      "metadata": {
        "id": "urEbkB96fWJC"
      }
    },
    {
      "cell_type": "markdown",
      "source": [
        "**Introduction:**"
      ],
      "metadata": {
        "id": "gewsA0HSkDPF"
      }
    },
    {
      "cell_type": "code",
      "source": [
        "# A temporal series is a set of data points collected over time. To describe a temporal series, several characteristics can be\n",
        "  # considered, including:\n",
        "\n",
        "# Trend: A trend refers to the overall direction of the data points over time. The trend can be upward, downward, or flat.\n",
        "# Seasonality: Seasonality refers to the presence of regular patterns in the data that repeat over a specific time period, such as daily,\n",
        "  # weekly, or yearly.\n",
        "# Cyclical: Cyclical patterns refer to patterns that occur over a longer period than seasonality, but are not as regular.\n",
        "# Irregularity: Irregularity refers to random fluctuations in the data that do not have a clear pattern.\n",
        "# Autocorrelation: Autocorrelation is the correlation between a time series and a lagged version of itself.\n",
        "  # It can indicate if there is a pattern that repeats itself at regular intervals.\n",
        "# Stationarity: Stationarity is a property of a time series in which the mean, variance, and autocovariance do not change over time.\n",
        "# Volatility: Volatility is a measure of how much the values of the time series change over time.\n",
        "  # A volatile time series will have large fluctuations, while a less volatile series will have smaller fluctuations.\n",
        "# Distribution: Distribution is the statistical properties of the data, such as mean, variance, skewness and kurtosis.\n",
        "# These characteristics can be used to describe the temporal series, and can help understand the underlying patterns and trends\n",
        "  # in the data, which can aid in forecasting future values or modeling the time series."
      ],
      "metadata": {
        "id": "ZW8Pl91RjQA2"
      },
      "execution_count": null,
      "outputs": []
    },
    {
      "cell_type": "code",
      "source": [
        "pip install pmdarima"
      ],
      "metadata": {
        "colab": {
          "base_uri": "https://localhost:8080/"
        },
        "id": "Jw1ruEpjw4wn",
        "outputId": "66adc31b-8fa9-4cb6-96c9-a0c0059031e7"
      },
      "execution_count": null,
      "outputs": [
        {
          "output_type": "stream",
          "name": "stdout",
          "text": [
            "Looking in indexes: https://pypi.org/simple, https://us-python.pkg.dev/colab-wheels/public/simple/\n",
            "Requirement already satisfied: pmdarima in /usr/local/lib/python3.8/dist-packages (2.0.2)\n",
            "Requirement already satisfied: statsmodels>=0.13.2 in /usr/local/lib/python3.8/dist-packages (from pmdarima) (0.13.5)\n",
            "Requirement already satisfied: scikit-learn>=0.22 in /usr/local/lib/python3.8/dist-packages (from pmdarima) (1.0.2)\n",
            "Requirement already satisfied: scipy>=1.3.2 in /usr/local/lib/python3.8/dist-packages (from pmdarima) (1.7.3)\n",
            "Requirement already satisfied: numpy>=1.21.2 in /usr/local/lib/python3.8/dist-packages (from pmdarima) (1.21.6)\n",
            "Requirement already satisfied: setuptools!=50.0.0,>=38.6.0 in /usr/local/lib/python3.8/dist-packages (from pmdarima) (57.4.0)\n",
            "Requirement already satisfied: joblib>=0.11 in /usr/local/lib/python3.8/dist-packages (from pmdarima) (1.2.0)\n",
            "Requirement already satisfied: Cython!=0.29.18,!=0.29.31,>=0.29 in /usr/local/lib/python3.8/dist-packages (from pmdarima) (0.29.33)\n",
            "Requirement already satisfied: pandas>=0.19 in /usr/local/lib/python3.8/dist-packages (from pmdarima) (1.3.5)\n",
            "Requirement already satisfied: urllib3 in /usr/local/lib/python3.8/dist-packages (from pmdarima) (1.24.3)\n",
            "Requirement already satisfied: python-dateutil>=2.7.3 in /usr/local/lib/python3.8/dist-packages (from pandas>=0.19->pmdarima) (2.8.2)\n",
            "Requirement already satisfied: pytz>=2017.3 in /usr/local/lib/python3.8/dist-packages (from pandas>=0.19->pmdarima) (2022.7)\n",
            "Requirement already satisfied: threadpoolctl>=2.0.0 in /usr/local/lib/python3.8/dist-packages (from scikit-learn>=0.22->pmdarima) (3.1.0)\n",
            "Requirement already satisfied: patsy>=0.5.2 in /usr/local/lib/python3.8/dist-packages (from statsmodels>=0.13.2->pmdarima) (0.5.3)\n",
            "Requirement already satisfied: packaging>=21.3 in /usr/local/lib/python3.8/dist-packages (from statsmodels>=0.13.2->pmdarima) (21.3)\n",
            "Requirement already satisfied: pyparsing!=3.0.5,>=2.0.2 in /usr/local/lib/python3.8/dist-packages (from packaging>=21.3->statsmodels>=0.13.2->pmdarima) (3.0.9)\n",
            "Requirement already satisfied: six in /usr/local/lib/python3.8/dist-packages (from patsy>=0.5.2->statsmodels>=0.13.2->pmdarima) (1.15.0)\n"
          ]
        }
      ]
    },
    {
      "cell_type": "markdown",
      "source": [
        "**Library:**"
      ],
      "metadata": {
        "id": "RqRCEhyv1URd"
      }
    },
    {
      "cell_type": "code",
      "source": [
        "import numpy as np\n",
        "import pandas as pd\n",
        "import requests\n",
        "\n",
        "from datetime import datetime\n",
        "from io import BytesIO\n",
        "\n",
        "from matplotlib import pyplot as plt\n",
        "from scipy.stats import shapiro\n",
        "from patsy import dmatrices\n",
        "\n",
        "import statsmodels.stats.api as sms\n",
        "from statsmodels.tsa.stattools import adfuller\n",
        "from statsmodels.graphics.tsaplots import plot_pacf\n",
        "from statsmodels.graphics.tsaplots import plot_acf\n",
        "from statsmodels.formula.api import ols\n",
        "from statsmodels.tsa.seasonal import seasonal_decompose\n",
        "from statsmodels.tsa.arima.model import ARIMA\n",
        "\n",
        "from pmdarima.arima import ndiffs\n",
        "from pmdarima.arima import nsdiffs\n",
        "from pmdarima.arima import auto_arima\n",
        "\n",
        "from sklearn.linear_model import LinearRegression\n",
        "from sklearn.model_selection import TimeSeriesSplit\n",
        "from sklearn.model_selection import train_test_split\n",
        "from sklearn.metrics import mean_squared_error\n",
        "from sklearn.metrics import mean_absolute_error\n",
        "from sklearn.ensemble import RandomForestRegressor\n",
        "from sklearn.linear_model import Ridge, Lasso\n",
        "from sklearn.tree import DecisionTreeRegressor\n",
        "from sklearn.neighbors import KNeighborsRegressor\n",
        "from sklearn.model_selection import cross_val_score\n",
        "from sklearn.model_selection import GridSearchCV\n"
      ],
      "metadata": {
        "id": "FDfNhNBYUapS"
      },
      "execution_count": null,
      "outputs": []
    },
    {
      "cell_type": "markdown",
      "source": [
        "**Data Dimention:**"
      ],
      "metadata": {
        "id": "5Kxo0xW51f4l"
      }
    },
    {
      "cell_type": "code",
      "source": [
        "data = pd.read_csv('https://raw.githubusercontent.com/vcerqueira/energy_load_data/main/energy_load_pt.csv')\n",
        "data.shape"
      ],
      "metadata": {
        "colab": {
          "base_uri": "https://localhost:8080/"
        },
        "id": "ZETh0RRuf9Om",
        "outputId": "8089a4ef-3cbd-459d-8c89-1c828f5298fb"
      },
      "execution_count": null,
      "outputs": [
        {
          "output_type": "execute_result",
          "data": {
            "text/plain": [
              "(13104, 2)"
            ]
          },
          "metadata": {},
          "execution_count": 228
        }
      ]
    },
    {
      "cell_type": "code",
      "source": [
        "data.head()"
      ],
      "metadata": {
        "colab": {
          "base_uri": "https://localhost:8080/",
          "height": 206
        },
        "id": "Te2ma7dzAJC0",
        "outputId": "381cfa34-df2e-472a-a667-3c9434fad2b2"
      },
      "execution_count": null,
      "outputs": [
        {
          "output_type": "execute_result",
          "data": {
            "text/plain": [
              "              datetime    load\n",
              "0  2020-11-17 08:00:00  5159.0\n",
              "1  2020-11-17 09:00:00  4985.0\n",
              "2  2020-11-17 10:00:00  4717.0\n",
              "3  2020-11-17 11:00:00  4356.0\n",
              "4  2020-11-17 12:00:00  4086.0"
            ],
            "text/html": [
              "\n",
              "  <div id=\"df-03a153a9-b57f-4ba8-8926-457867840694\">\n",
              "    <div class=\"colab-df-container\">\n",
              "      <div>\n",
              "<style scoped>\n",
              "    .dataframe tbody tr th:only-of-type {\n",
              "        vertical-align: middle;\n",
              "    }\n",
              "\n",
              "    .dataframe tbody tr th {\n",
              "        vertical-align: top;\n",
              "    }\n",
              "\n",
              "    .dataframe thead th {\n",
              "        text-align: right;\n",
              "    }\n",
              "</style>\n",
              "<table border=\"1\" class=\"dataframe\">\n",
              "  <thead>\n",
              "    <tr style=\"text-align: right;\">\n",
              "      <th></th>\n",
              "      <th>datetime</th>\n",
              "      <th>load</th>\n",
              "    </tr>\n",
              "  </thead>\n",
              "  <tbody>\n",
              "    <tr>\n",
              "      <th>0</th>\n",
              "      <td>2020-11-17 08:00:00</td>\n",
              "      <td>5159.0</td>\n",
              "    </tr>\n",
              "    <tr>\n",
              "      <th>1</th>\n",
              "      <td>2020-11-17 09:00:00</td>\n",
              "      <td>4985.0</td>\n",
              "    </tr>\n",
              "    <tr>\n",
              "      <th>2</th>\n",
              "      <td>2020-11-17 10:00:00</td>\n",
              "      <td>4717.0</td>\n",
              "    </tr>\n",
              "    <tr>\n",
              "      <th>3</th>\n",
              "      <td>2020-11-17 11:00:00</td>\n",
              "      <td>4356.0</td>\n",
              "    </tr>\n",
              "    <tr>\n",
              "      <th>4</th>\n",
              "      <td>2020-11-17 12:00:00</td>\n",
              "      <td>4086.0</td>\n",
              "    </tr>\n",
              "  </tbody>\n",
              "</table>\n",
              "</div>\n",
              "      <button class=\"colab-df-convert\" onclick=\"convertToInteractive('df-03a153a9-b57f-4ba8-8926-457867840694')\"\n",
              "              title=\"Convert this dataframe to an interactive table.\"\n",
              "              style=\"display:none;\">\n",
              "        \n",
              "  <svg xmlns=\"http://www.w3.org/2000/svg\" height=\"24px\"viewBox=\"0 0 24 24\"\n",
              "       width=\"24px\">\n",
              "    <path d=\"M0 0h24v24H0V0z\" fill=\"none\"/>\n",
              "    <path d=\"M18.56 5.44l.94 2.06.94-2.06 2.06-.94-2.06-.94-.94-2.06-.94 2.06-2.06.94zm-11 1L8.5 8.5l.94-2.06 2.06-.94-2.06-.94L8.5 2.5l-.94 2.06-2.06.94zm10 10l.94 2.06.94-2.06 2.06-.94-2.06-.94-.94-2.06-.94 2.06-2.06.94z\"/><path d=\"M17.41 7.96l-1.37-1.37c-.4-.4-.92-.59-1.43-.59-.52 0-1.04.2-1.43.59L10.3 9.45l-7.72 7.72c-.78.78-.78 2.05 0 2.83L4 21.41c.39.39.9.59 1.41.59.51 0 1.02-.2 1.41-.59l7.78-7.78 2.81-2.81c.8-.78.8-2.07 0-2.86zM5.41 20L4 18.59l7.72-7.72 1.47 1.35L5.41 20z\"/>\n",
              "  </svg>\n",
              "      </button>\n",
              "      \n",
              "  <style>\n",
              "    .colab-df-container {\n",
              "      display:flex;\n",
              "      flex-wrap:wrap;\n",
              "      gap: 12px;\n",
              "    }\n",
              "\n",
              "    .colab-df-convert {\n",
              "      background-color: #E8F0FE;\n",
              "      border: none;\n",
              "      border-radius: 50%;\n",
              "      cursor: pointer;\n",
              "      display: none;\n",
              "      fill: #1967D2;\n",
              "      height: 32px;\n",
              "      padding: 0 0 0 0;\n",
              "      width: 32px;\n",
              "    }\n",
              "\n",
              "    .colab-df-convert:hover {\n",
              "      background-color: #E2EBFA;\n",
              "      box-shadow: 0px 1px 2px rgba(60, 64, 67, 0.3), 0px 1px 3px 1px rgba(60, 64, 67, 0.15);\n",
              "      fill: #174EA6;\n",
              "    }\n",
              "\n",
              "    [theme=dark] .colab-df-convert {\n",
              "      background-color: #3B4455;\n",
              "      fill: #D2E3FC;\n",
              "    }\n",
              "\n",
              "    [theme=dark] .colab-df-convert:hover {\n",
              "      background-color: #434B5C;\n",
              "      box-shadow: 0px 1px 3px 1px rgba(0, 0, 0, 0.15);\n",
              "      filter: drop-shadow(0px 1px 2px rgba(0, 0, 0, 0.3));\n",
              "      fill: #FFFFFF;\n",
              "    }\n",
              "  </style>\n",
              "\n",
              "      <script>\n",
              "        const buttonEl =\n",
              "          document.querySelector('#df-03a153a9-b57f-4ba8-8926-457867840694 button.colab-df-convert');\n",
              "        buttonEl.style.display =\n",
              "          google.colab.kernel.accessAllowed ? 'block' : 'none';\n",
              "\n",
              "        async function convertToInteractive(key) {\n",
              "          const element = document.querySelector('#df-03a153a9-b57f-4ba8-8926-457867840694');\n",
              "          const dataTable =\n",
              "            await google.colab.kernel.invokeFunction('convertToInteractive',\n",
              "                                                     [key], {});\n",
              "          if (!dataTable) return;\n",
              "\n",
              "          const docLinkHtml = 'Like what you see? Visit the ' +\n",
              "            '<a target=\"_blank\" href=https://colab.research.google.com/notebooks/data_table.ipynb>data table notebook</a>'\n",
              "            + ' to learn more about interactive tables.';\n",
              "          element.innerHTML = '';\n",
              "          dataTable['output_type'] = 'display_data';\n",
              "          await google.colab.output.renderOutput(dataTable, element);\n",
              "          const docLink = document.createElement('div');\n",
              "          docLink.innerHTML = docLinkHtml;\n",
              "          element.appendChild(docLink);\n",
              "        }\n",
              "      </script>\n",
              "    </div>\n",
              "  </div>\n",
              "  "
            ]
          },
          "metadata": {},
          "execution_count": 229
        }
      ]
    },
    {
      "cell_type": "markdown",
      "source": [
        "**Graphics of the T.S.:**"
      ],
      "metadata": {
        "id": "xaGXxjFYlO_s"
      }
    },
    {
      "cell_type": "code",
      "source": [
        "series = pd.Series(data['load'])\n",
        "series.index = pd.to_datetime(data['datetime'])\n",
        "series.plot()\n",
        "plt.title(\"Energy Load - PT\")\n",
        "plt.show()"
      ],
      "metadata": {
        "colab": {
          "base_uri": "https://localhost:8080/",
          "height": 293
        },
        "id": "DiRbCAfqBo1H",
        "outputId": "552c6b93-d055-41d8-fc9c-dcaaed07574d"
      },
      "execution_count": null,
      "outputs": [
        {
          "output_type": "display_data",
          "data": {
            "text/plain": [
              "<Figure size 432x288 with 1 Axes>"
            ],
            "image/png": "[encoded data removed]"
          },
          "metadata": {
            "needs_background": "light"
          }
        }
      ]
    },
    {
      "cell_type": "code",
      "source": [
        "series1 = series.resample('D').mean()\n",
        "series1.plot()"
      ],
      "metadata": {
        "colab": {
          "base_uri": "https://localhost:8080/",
          "height": 308
        },
        "id": "ZZRRu8CdrwN9",
        "outputId": "b200de40-f1b6-445a-e36b-0eea0ad8b066"
      },
      "execution_count": null,
      "outputs": [
        {
          "output_type": "execute_result",
          "data": {
            "text/plain": [
              "<matplotlib.axes._subplots.AxesSubplot at 0x7f2803ee5760>"
            ]
          },
          "metadata": {},
          "execution_count": 231
        },
        {
          "output_type": "display_data",
          "data": {
            "text/plain": [
              "<Figure size 432x288 with 1 Axes>"
            ],
            "image/png": "[encoded data removed]"
          },
          "metadata": {
            "needs_background": "light"
          }
        }
      ]
    },
    {
      "cell_type": "markdown",
      "source": [
        "**Seasonal Decompose:**"
      ],
      "metadata": {
        "id": "qmK00Ibimm9r"
      }
    },
    {
      "cell_type": "code",
      "source": [
        "# Seasonal decomposition is a technique used to separate a time series into its underlying components, including the trend, seasonal,\n",
        "  # and residual components.\n",
        "# The trend component captures the long-term changes in the data, such as an overall increase or decrease.\n",
        "# The seasonal component captures the repeating patterns in the data, such as daily, weekly, or yearly patterns.\n",
        "# The residual component captures the remaining irregular fluctuations in the data that are not explained by the trend or seasonal\n",
        "  # components.\n",
        "\n",
        "# There are different methods to perform a seasonal decomposition, such as:\n",
        "  # Classical decomposition method, which uses moving averages to estimate the trend and seasonal components;\n",
        "  # X-11 decomposition, which is an extension of the classical method and uses more advanced techniques to handle irregular and missing data;\n",
        "  # STL decomposition, which is based on the decomposition of a time series into seasonal, trend and remainder components using Loess smoothing;\n",
        "  # Trend-Cycle decomposition which is similar to STL decomposition, but it uses different smoothing methods.\n",
        "# The choice of method will depend on the specific characteristics of the time series and the desired level of accuracy.\n",
        "  # After the decomposition, the resulting components can be further analyzed and used for various purposes such as forecasting or\n",
        "  # identifying patterns in the data."
      ],
      "metadata": {
        "id": "8DdBP9FUlNBF"
      },
      "execution_count": null,
      "outputs": []
    },
    {
      "cell_type": "code",
      "source": [
        "result = seasonal_decompose(series1, model='aditive')\n",
        "result.plot()\n",
        "plt.show()"
      ],
      "metadata": {
        "colab": {
          "base_uri": "https://localhost:8080/",
          "height": 297
        },
        "id": "nrLNq7Xgu0aF",
        "outputId": "bd004725-1d56-4469-8271-b2dede7268cc"
      },
      "execution_count": null,
      "outputs": [
        {
          "output_type": "display_data",
          "data": {
            "text/plain": [
              "<Figure size 432x288 with 4 Axes>"
            ],
            "image/png": "[encoded data removed]"
          },
          "metadata": {
            "needs_background": "light"
          }
        }
      ]
    },
    {
      "cell_type": "markdown",
      "source": [
        "**About Stationarity:**"
      ],
      "metadata": {
        "id": "j6E22qkRoHtd"
      }
    },
    {
      "cell_type": "code",
      "source": [
        "# A stationary time series is a time series in which the mean, variance, and autocovariance do not change over time.\n",
        "  # This means that the statistical properties of the series are constant over time, and there are no trends or seasonality present.\n",
        "  # Stationarity is an important assumption for many time series models, such as the popular ARIMA model.\n",
        "\n",
        "# The \"ndiffs\" function is a helper function often used in time series analysis typically used in conjunction with the augmented\n",
        "  # Dickey-Fuller (ADF) test, which is a statistical test for checking whether a time series is stationary. The test calculates the\n",
        "  # number of differences needed to make the time series stationary. The resulting number of differences, or \"ndiffs,\" is then used\n",
        "  # to adjust the original time series by taking the difference between consecutive values the specified number of times.\n",
        "\n",
        "# For example, if the ndiffs value is 1, the time series would be differenced once, resulting in a new series that measures the change\n",
        "  # in values over time. If the ndiffs value is 2, the time series would be differenced twice, resulting in a new series that measures\n",
        "  # the change in the change in values over time.\n",
        "\n",
        "# In practice, you can use the ndiffs parameter to determine the order of differencing in an ARIMA model, which is a method for\n",
        "  # forecasting time series data. By finding the number of differences required to make the time series stationary, the model can\n",
        "  # adjust the data accordingly and provide more accurate forecasts."
      ],
      "metadata": {
        "id": "-gJ_SkO-pp5c"
      },
      "execution_count": null,
      "outputs": []
    },
    {
      "cell_type": "code",
      "source": [
        "ndiffs(series1, test='adf')"
      ],
      "metadata": {
        "colab": {
          "base_uri": "https://localhost:8080/"
        },
        "id": "AgrYJOz93W1D",
        "outputId": "91fe5e6e-3baf-42b1-a4b3-cbebae2ca500"
      },
      "execution_count": null,
      "outputs": [
        {
          "output_type": "execute_result",
          "data": {
            "text/plain": [
              "1"
            ]
          },
          "metadata": {},
          "execution_count": 235
        }
      ]
    },
    {
      "cell_type": "code",
      "source": [
        "# Applying a difference:"
      ],
      "metadata": {
        "id": "88nGx7txrGoE"
      },
      "execution_count": null,
      "outputs": []
    },
    {
      "cell_type": "code",
      "source": [
        "series1 = series1.diff(periods=1)\n",
        "series1.dropna(inplace=True)"
      ],
      "metadata": {
        "id": "qOwGJ1OQ4RtW"
      },
      "execution_count": null,
      "outputs": []
    },
    {
      "cell_type": "code",
      "source": [
        "ndiffs(series1, test='adf')"
      ],
      "metadata": {
        "colab": {
          "base_uri": "https://localhost:8080/"
        },
        "id": "cHGcueIi9ye0",
        "outputId": "047ec61d-113c-4d51-84e2-71b44afcdbec"
      },
      "execution_count": null,
      "outputs": [
        {
          "output_type": "execute_result",
          "data": {
            "text/plain": [
              "0"
            ]
          },
          "metadata": {},
          "execution_count": 238
        }
      ]
    },
    {
      "cell_type": "code",
      "source": [
        "# Verifying the seasonal order:\n",
        "\n",
        "nsdiffs(series1, test='ocsb', m=7)"
      ],
      "metadata": {
        "colab": {
          "base_uri": "https://localhost:8080/"
        },
        "id": "-DgFxYpB-W_X",
        "outputId": "9442a9db-3258-4a75-90e4-fb2d9001e5f6"
      },
      "execution_count": null,
      "outputs": [
        {
          "output_type": "execute_result",
          "data": {
            "text/plain": [
              "0"
            ]
          },
          "metadata": {},
          "execution_count": 239
        }
      ]
    },
    {
      "cell_type": "markdown",
      "source": [
        "**Identifying the autoregressive order:**"
      ],
      "metadata": {
        "id": "KgGcLRJB0_wi"
      }
    },
    {
      "cell_type": "code",
      "source": [
        "# Plotting the PACF function\n",
        "plt.figure()\n",
        "plot_pacf(series1, lags=10)\n",
        "plt.show()"
      ],
      "metadata": {
        "colab": {
          "base_uri": "https://localhost:8080/",
          "height": 353
        },
        "id": "EREFZjNu-4Ge",
        "outputId": "519f3228-dbe5-4464-fda4-a821c8cdc4ab"
      },
      "execution_count": null,
      "outputs": [
        {
          "output_type": "stream",
          "name": "stderr",
          "text": [
            "/usr/local/lib/python3.8/dist-packages/statsmodels/graphics/tsaplots.py:348: FutureWarning: The default method 'yw' can produce PACF values outside of the [-1,1] interval. After 0.13, the default will change tounadjusted Yule-Walker ('ywm'). You can use this method now by setting method='ywm'.\n",
            "  warnings.warn(\n"
          ]
        },
        {
          "output_type": "display_data",
          "data": {
            "text/plain": [
              "<Figure size 432x288 with 0 Axes>"
            ]
          },
          "metadata": {}
        },
        {
          "output_type": "display_data",
          "data": {
            "text/plain": [
              "<Figure size 432x288 with 1 Axes>"
            ],
            "image/png": "[encoded data removed]"
          },
          "metadata": {
            "needs_background": "light"
          }
        }
      ]
    },
    {
      "cell_type": "code",
      "source": [
        "# The order of the autoregressive term (p) is given by the number of significant peaks in the PACF plot before the function decays to values ​​close to zero.\n",
        "  # Observing the corresponding graph, we verify that the order of the autoregressive term is 2, therefore AR(2)"
      ],
      "metadata": {
        "id": "R6pRYLPuumQD"
      },
      "execution_count": null,
      "outputs": []
    },
    {
      "cell_type": "markdown",
      "source": [
        "**Identifying the the moving averages order:**"
      ],
      "metadata": {
        "id": "IcobRQqf12CF"
      }
    },
    {
      "cell_type": "code",
      "source": [
        "# Defining the temporal series:\n",
        "\n",
        "# Plotting the ACF function\n",
        "plt.figure()\n",
        "plot_acf(series1, lags=10)\n",
        "plt.show()"
      ],
      "metadata": {
        "colab": {
          "base_uri": "https://localhost:8080/",
          "height": 298
        },
        "id": "ISv_ovDVAnes",
        "outputId": "8a0e17a6-16b4-4148-da49-ad299c7026a1"
      },
      "execution_count": null,
      "outputs": [
        {
          "output_type": "display_data",
          "data": {
            "text/plain": [
              "<Figure size 432x288 with 0 Axes>"
            ]
          },
          "metadata": {}
        },
        {
          "output_type": "display_data",
          "data": {
            "text/plain": [
              "<Figure size 432x288 with 1 Axes>"
            ],
            "image/png": "[encoded data removed]"
          },
          "metadata": {
            "needs_background": "light"
          }
        }
      ]
    },
    {
      "cell_type": "code",
      "source": [
        "# The order of the moving average (q) is given by the number of significant peaks in the ACF graph before the function\n",
        "  # decays to values ​​close to zero. Looking at the corresponding chart, we see that the order of the term moving averages is 2,\n",
        "  # so we have an MA(2)\n",
        "# Therefore, in this way we can conclude that the Arima model apparently more adequate to fit the data is ARIMA(2,1,2).\n",
        "# However, before making the adjustment, we will check the behavior of the series, that is, if it follows a \"normal distribution\" or not.\n",
        "# We will also verify if the series is homoscedastic (variance of constant errors) and finally if it is a stationary series."
      ],
      "metadata": {
        "id": "t3-_Wp0VwCe8"
      },
      "execution_count": null,
      "outputs": []
    },
    {
      "cell_type": "markdown",
      "source": [
        "**The Shapiro-Wilk Test:**"
      ],
      "metadata": {
        "id": "qsw8kpuS2KXU"
      }
    },
    {
      "cell_type": "code",
      "source": [
        "# The Shapiro-Wilk test: is a statistical test used to determine whether a sample of data comes from a normal distribution.\n",
        "# The test compares the sample's skewness and kurtosis (measure of the shape of the distribution) with that of the normal distribution.\n",
        "# A smaller p-value (typically less than 0.05) indicates that the sample is unlikely to have come from a normal distribution.\n",
        "\n",
        "stat, p = shapiro(series1)\n",
        "print(\"Valor-p: \", p)"
      ],
      "metadata": {
        "colab": {
          "base_uri": "https://localhost:8080/"
        },
        "id": "jMPy9PwVBP-4",
        "outputId": "5c11a0c9-482e-4495-e3a7-940973c01295"
      },
      "execution_count": null,
      "outputs": [
        {
          "output_type": "stream",
          "name": "stdout",
          "text": [
            "Valor-p:  7.39867455495924e-12\n"
          ]
        }
      ]
    },
    {
      "cell_type": "code",
      "source": [
        "# Therefore, there is statistical evidence that the data follow a \"Gaussian behavior\" or in the similar a \"normal distribution\".\n",
        "# In this way, we do not need to resort to a Box-Cox transformation¹.\n",
        "\n",
        "        # ¹A Box-Cox transformation is a method for transforming non-normal data into a normal or nearly normal distribution.\n",
        "          # The Box-Cox transformation is a family of power transforms that can be used to stabilize the variance of a time series\n",
        "          # and make it more stationary."
      ],
      "metadata": {
        "id": "WBQha7R7y9Sk"
      },
      "execution_count": null,
      "outputs": []
    },
    {
      "cell_type": "markdown",
      "source": [
        "**White Test: Heteroscedasticity.**"
      ],
      "metadata": {
        "id": "vLPmo52c2vAE"
      }
    },
    {
      "cell_type": "code",
      "source": [
        "# The White test, also known as the White heteroscedasticity test, is a statistical test used to determine whether there is\n",
        "  # heteroscedasticity (non-constant variance) in a linear regression model. Heteroscedasticity occurs when the variance of the\n",
        "  # error term is not constant across all levels of the independent variable(s).\n",
        "\n",
        "# The White test is based on the residuals of the linear regression model and is conducted by regressing the squared residuals\n",
        "  # on the independent variable(s) and testing whether the coefficients are statistically different from zero. If the coefficients\n",
        "  # are not statistically different from zero, then there is evidence of heteroscedasticity."
      ],
      "metadata": {
        "id": "HacJ91Wm3G-E"
      },
      "execution_count": null,
      "outputs": []
    },
    {
      "cell_type": "code",
      "source": [
        "def het_tests(series: pd.Series, test: str) -> float:\n",
        "    \"\"\"\n",
        "    Testing for heteroskedasticity using the White or Breusch-Pagan test\n",
        "    :param series: Univariate time series as pd.Series\n",
        "    :param test: String denoting the test. One of 'white' or 'breuschpagan'\n",
        "    :return: p-value as a float.\n",
        "    If the p-value is high, we accept the null hypothesis that there is no heteroscedastisticity\n",
        "    \"\"\"\n",
        "    formula = 'value ~ time'\n",
        "    assert test in ['white', 'breuschpagan'], 'Unknown test'\n",
        "\n",
        "    series = series.reset_index(drop=True).reset_index()\n",
        "    series.columns = ['time', 'value']\n",
        "    series['time'] += 1\n",
        "\n",
        "    olsr = ols(formula, series).fit()\n",
        "\n",
        "    y, X = dmatrices(formula, series, return_type='dataframe')\n",
        "\n",
        "    if test == 'white':\n",
        "        _, p_value, _, _ = sms.het_white(olsr.resid, X)\n",
        "    else:\n",
        "        _, p_value, _, _ = sms.het_breuschpagan(olsr.resid, X)\n",
        "\n",
        "    return p_value\n",
        "p_value = het_tests(series1, test='white')\n",
        "print(p_value)"
      ],
      "metadata": {
        "colab": {
          "base_uri": "https://localhost:8080/"
        },
        "id": "lK16NnIXCUgQ",
        "outputId": "b484af8f-639c-453a-fcc8-60dc711a7827"
      },
      "execution_count": null,
      "outputs": [
        {
          "output_type": "stream",
          "name": "stdout",
          "text": [
            "0.47402176350753256\n"
          ]
        }
      ]
    },
    {
      "cell_type": "code",
      "source": [
        "# Therefore, as p-value > 0.05, then we do not reject the null hypothesis, so we can say that there is statistical\n",
        "  # evidence that the variance of errors is constant, that is, homoscedastic."
      ],
      "metadata": {
        "id": "huwfWgUc4nQ7"
      },
      "execution_count": null,
      "outputs": []
    },
    {
      "cell_type": "markdown",
      "source": [
        "**The Dickey-Fuller test: Stationarity.**"
      ],
      "metadata": {
        "id": "hSdpqYP249i7"
      }
    },
    {
      "cell_type": "code",
      "source": [
        "# The Dickey-Fuller test is a statistical test used to determine whether a time series is stationary, meaning it has a constant mean,\n",
        "  # variance, and autocorrelation. The test involves regressing the time series on its own lagged values and testing the null hypothesis\n",
        "  # that the coefficient on the lagged values is equal to one. If the null hypothesis is rejected, then the time series is considered\n",
        "  # to be stationary. If it fails to reject the null hypothesis, then the time series is not stationary."
      ],
      "metadata": {
        "id": "pb1N5BrX8Cnj"
      },
      "execution_count": null,
      "outputs": []
    },
    {
      "cell_type": "code",
      "source": [
        "result = adfuller(series1)\n",
        "print(result[1])\n",
        "# p-value"
      ],
      "metadata": {
        "colab": {
          "base_uri": "https://localhost:8080/"
        },
        "id": "5RHgFV5bDIB4",
        "outputId": "a35b2486-1792-4f42-f98c-b09148dbc001"
      },
      "execution_count": null,
      "outputs": [
        {
          "output_type": "stream",
          "name": "stdout",
          "text": [
            "3.2287865942887613e-11\n"
          ]
        }
      ]
    },
    {
      "cell_type": "code",
      "source": [
        "# As the p-value < 0.05 , then we can reject the null hypothesis, and therefore conclude that there is statistical evidence\n",
        "  # that the present series is stationary. Thus, we are ready to use prediction models."
      ],
      "metadata": {
        "id": "Dm3QGNna8cxU"
      },
      "execution_count": null,
      "outputs": []
    },
    {
      "cell_type": "code",
      "source": [
        "result = seasonal_decompose(series1, model='aditive')\n",
        "plt.figure(figsize=(30,20))\n",
        "result.plot()\n",
        "plt.show()"
      ],
      "metadata": {
        "colab": {
          "base_uri": "https://localhost:8080/",
          "height": 314
        },
        "id": "9lyFU4vKD0qL",
        "outputId": "922cbbb3-3158-42bc-8c24-1e5e77bf4006"
      },
      "execution_count": null,
      "outputs": [
        {
          "output_type": "display_data",
          "data": {
            "text/plain": [
              "<Figure size 2160x1440 with 0 Axes>"
            ]
          },
          "metadata": {}
        },
        {
          "output_type": "display_data",
          "data": {
            "text/plain": [
              "<Figure size 432x288 with 4 Axes>"
            ],
            "image/png": "[encoded data removed]"
          },
          "metadata": {
            "needs_background": "light"
          }
        }
      ]
    },
    {
      "cell_type": "markdown",
      "source": [
        "##**The ARIMA Modelation:**"
      ],
      "metadata": {
        "id": "9_K9nh1nAO9T"
      }
    },
    {
      "cell_type": "markdown",
      "source": [
        "**ARIMA (2,1,2)**\n"
      ],
      "metadata": {
        "id": "kbx-zkXl9A2T"
      }
    },
    {
      "cell_type": "code",
      "source": [
        "model = ARIMA(series1, order=(2,1,2))\n",
        "model_fit = model.fit()\n",
        "print(model_fit.summary()) "
      ],
      "metadata": {
        "colab": {
          "base_uri": "https://localhost:8080/"
        },
        "id": "wCfiLbHgFk6R",
        "outputId": "e402a66a-bed9-4374-e23d-b9092c85d365"
      },
      "execution_count": null,
      "outputs": [
        {
          "output_type": "stream",
          "name": "stderr",
          "text": [
            "/usr/local/lib/python3.8/dist-packages/statsmodels/tsa/statespace/sarimax.py:978: UserWarning: Non-invertible starting MA parameters found. Using zeros as starting parameters.\n",
            "  warn('Non-invertible starting MA parameters found.'\n"
          ]
        },
        {
          "output_type": "stream",
          "name": "stdout",
          "text": [
            "                               SARIMAX Results                                \n",
            "==============================================================================\n",
            "Dep. Variable:                   load   No. Observations:                  546\n",
            "Model:                 ARIMA(2, 1, 2)   Log Likelihood               -3955.350\n",
            "Date:                Sun, 22 Jan 2023   AIC                           7920.700\n",
            "Time:                        23:38:03   BIC                           7942.204\n",
            "Sample:                    11-18-2020   HQIC                          7929.107\n",
            "                         - 05-17-2022                                         \n",
            "Covariance Type:                  opg                                         \n",
            "==============================================================================\n",
            "                 coef    std err          z      P>|z|      [0.025      0.975]\n",
            "------------------------------------------------------------------------------\n",
            "ar.L1         -0.0950      0.058     -1.636      0.102      -0.209       0.019\n",
            "ar.L2         -0.3417      0.051     -6.717      0.000      -0.441      -0.242\n",
            "ma.L1         -0.2055      0.081     -2.524      0.012      -0.365      -0.046\n",
            "ma.L2         -0.7945      0.074    -10.731      0.000      -0.940      -0.649\n",
            "sigma2      1.165e+05   1.07e-06   1.09e+11      0.000    1.16e+05    1.16e+05\n",
            "===================================================================================\n",
            "Ljung-Box (L1) (Q):                   1.18   Jarque-Bera (JB):                 5.66\n",
            "Prob(Q):                              0.28   Prob(JB):                         0.06\n",
            "Heteroskedasticity (H):               1.00   Skew:                             0.08\n",
            "Prob(H) (two-sided):                  0.99   Kurtosis:                         2.52\n",
            "===================================================================================\n",
            "\n",
            "Warnings:\n",
            "[1] Covariance matrix calculated using the outer product of gradients (complex-step).\n",
            "[2] Covariance matrix is singular or near-singular, with condition number 5.24e+26. Standard errors may be unstable.\n"
          ]
        }
      ]
    },
    {
      "cell_type": "code",
      "source": [
        "# Looking at the summary we see that most of the coefficients are statistically significant.\n",
        "# However, as can be seen, the first coefficient, ar.l1, is not. So let's take an order out of the autorregressive model."
      ],
      "metadata": {
        "id": "37nI6SWI-vlT"
      },
      "execution_count": null,
      "outputs": []
    },
    {
      "cell_type": "markdown",
      "source": [
        "**ARIMA (1,1,2)**"
      ],
      "metadata": {
        "id": "JJ21IHlN_nP9"
      }
    },
    {
      "cell_type": "code",
      "source": [
        "model = ARIMA(series1, order=(1,1,2))\n",
        "model_fit = model.fit()\n",
        "print(model_fit.summary()) "
      ],
      "metadata": {
        "colab": {
          "base_uri": "https://localhost:8080/"
        },
        "id": "p8HqLo-jFvot",
        "outputId": "3bdcbfc8-b953-4e1b-9a69-9ae5628ee3dc"
      },
      "execution_count": null,
      "outputs": [
        {
          "output_type": "stream",
          "name": "stderr",
          "text": [
            "/usr/local/lib/python3.8/dist-packages/statsmodels/tsa/statespace/sarimax.py:978: UserWarning: Non-invertible starting MA parameters found. Using zeros as starting parameters.\n",
            "  warn('Non-invertible starting MA parameters found.'\n"
          ]
        },
        {
          "output_type": "stream",
          "name": "stdout",
          "text": [
            "                               SARIMAX Results                                \n",
            "==============================================================================\n",
            "Dep. Variable:                   load   No. Observations:                  546\n",
            "Model:                 ARIMA(1, 1, 2)   Log Likelihood               -3981.087\n",
            "Date:                Sun, 22 Jan 2023   AIC                           7970.173\n",
            "Time:                        23:38:03   BIC                           7987.376\n",
            "Sample:                    11-18-2020   HQIC                          7976.899\n",
            "                         - 05-17-2022                                         \n",
            "Covariance Type:                  opg                                         \n",
            "==============================================================================\n",
            "                 coef    std err          z      P>|z|      [0.025      0.975]\n",
            "------------------------------------------------------------------------------\n",
            "ar.L1         -0.1433      0.070     -2.050      0.040      -0.280      -0.006\n",
            "ma.L1         -0.1079      4.641     -0.023      0.981      -9.204       8.988\n",
            "ma.L2         -0.8921      4.131     -0.216      0.829      -8.988       7.204\n",
            "sigma2      1.282e+05   5.94e+05      0.216      0.829   -1.04e+06    1.29e+06\n",
            "===================================================================================\n",
            "Ljung-Box (L1) (Q):                   0.76   Jarque-Bera (JB):                15.06\n",
            "Prob(Q):                              0.38   Prob(JB):                         0.00\n",
            "Heteroskedasticity (H):               0.99   Skew:                             0.39\n",
            "Prob(H) (two-sided):                  0.97   Kurtosis:                         2.75\n",
            "===================================================================================\n",
            "\n",
            "Warnings:\n",
            "[1] Covariance matrix calculated using the outer product of gradients (complex-step).\n"
          ]
        }
      ]
    },
    {
      "cell_type": "code",
      "source": [
        "# Looking again at the summary we see that most of the coefficients are now not statistically significant,\n",
        "  # however the autoregressive coefficient is significant. So let's withdraw an order on the moving averages."
      ],
      "metadata": {
        "id": "RwyWExWn_wIs"
      },
      "execution_count": null,
      "outputs": []
    },
    {
      "cell_type": "markdown",
      "source": [
        "**ARIMA (1,1,1)**"
      ],
      "metadata": {
        "id": "pu8559v5AHAM"
      }
    },
    {
      "cell_type": "code",
      "source": [
        "model = ARIMA(series1, order=(1,1,1))\n",
        "model_fit = model.fit()\n",
        "print(model_fit.summary())"
      ],
      "metadata": {
        "colab": {
          "base_uri": "https://localhost:8080/"
        },
        "id": "KJWDhQ9uGeEZ",
        "outputId": "ec97b7ca-8874-49c4-debe-bfe3348357b7"
      },
      "execution_count": null,
      "outputs": [
        {
          "output_type": "stream",
          "name": "stdout",
          "text": [
            "                               SARIMAX Results                                \n",
            "==============================================================================\n",
            "Dep. Variable:                   load   No. Observations:                  546\n",
            "Model:                 ARIMA(1, 1, 1)   Log Likelihood               -4144.601\n",
            "Date:                Sun, 22 Jan 2023   AIC                           8295.202\n",
            "Time:                        23:38:03   BIC                           8308.105\n",
            "Sample:                    11-18-2020   HQIC                          8300.246\n",
            "                         - 05-17-2022                                         \n",
            "Covariance Type:                  opg                                         \n",
            "==============================================================================\n",
            "                 coef    std err          z      P>|z|      [0.025      0.975]\n",
            "------------------------------------------------------------------------------\n",
            "ar.L1         -0.4717      0.066     -7.108      0.000      -0.602      -0.342\n",
            "ma.L1          0.9010      0.028     31.946      0.000       0.846       0.956\n",
            "sigma2      2.358e+05   1.32e+04     17.880      0.000     2.1e+05    2.62e+05\n",
            "===================================================================================\n",
            "Ljung-Box (L1) (Q):                  17.21   Jarque-Bera (JB):                92.84\n",
            "Prob(Q):                              0.00   Prob(JB):                         0.00\n",
            "Heteroskedasticity (H):               1.03   Skew:                             0.99\n",
            "Prob(H) (two-sided):                  0.83   Kurtosis:                         3.37\n",
            "===================================================================================\n",
            "\n",
            "Warnings:\n",
            "[1] Covariance matrix calculated using the outer product of gradients (complex-step).\n"
          ]
        }
      ]
    },
    {
      "cell_type": "code",
      "source": [
        "# As we can see, now all coefficients are statistically significant, so we choose the ARIMA(1,1,1) model."
      ],
      "metadata": {
        "id": "5QfkGxMXAv-z"
      },
      "execution_count": null,
      "outputs": []
    },
    {
      "cell_type": "code",
      "source": [
        "# Plot residual errors\n",
        "residuals = pd.DataFrame(model_fit.resid)\n",
        "fig, ax = plt.subplots(1,2)\n",
        "residuals.plot(title=\"Residuals\", ax=ax[0])\n",
        "residuals.plot(kind='kde', title='Density', ax=ax[1])\n",
        "plt.show()"
      ],
      "metadata": {
        "colab": {
          "base_uri": "https://localhost:8080/",
          "height": 307
        },
        "id": "QWPn7hagGyPn",
        "outputId": "30fbcfc9-fd53-4a89-bef4-b62a1e0a1a92"
      },
      "execution_count": null,
      "outputs": [
        {
          "output_type": "display_data",
          "data": {
            "text/plain": [
              "<Figure size 432x288 with 2 Axes>"
            ],
            "image/png": "[encoded data removed]"
          },
          "metadata": {
            "needs_background": "light"
          }
        }
      ]
    },
    {
      "cell_type": "code",
      "source": [
        "# As we can see, the residuals seem in line with what was intended, since the average appears to be constant, as well as\n",
        "  # the constant variance. We were also able to visualize the plot of the density function, which presents a Gaussian behavior as intended."
      ],
      "metadata": {
        "id": "msXYr_8CBbEt"
      },
      "execution_count": null,
      "outputs": []
    },
    {
      "cell_type": "markdown",
      "source": [
        "##**Cross Validation:**"
      ],
      "metadata": {
        "id": "yDb71iG5BvCE"
      }
    },
    {
      "cell_type": "code",
      "source": [
        "# Converting the series in a DataFrame:\n",
        "series1 = series1.to_frame().reset_index()\n",
        "series1 = series1.rename(columns={'index':'datetime'})"
      ],
      "metadata": {
        "id": "rc2msdraOifL"
      },
      "execution_count": null,
      "outputs": []
    },
    {
      "cell_type": "code",
      "source": [
        "data['datetime'] = pd.to_datetime(data['datetime'], format='%Y/%m/%d')\n",
        "data.head()\n",
        "data"
      ],
      "metadata": {
        "colab": {
          "base_uri": "https://localhost:8080/",
          "height": 424
        },
        "id": "EOU9x_fXPFhc",
        "outputId": "9dbdf2a9-96a7-4a1a-9321-c43d1632d6b7"
      },
      "execution_count": null,
      "outputs": [
        {
          "output_type": "execute_result",
          "data": {
            "text/plain": [
              "                 datetime    load\n",
              "0     2020-11-17 08:00:00  5159.0\n",
              "1     2020-11-17 09:00:00  4985.0\n",
              "2     2020-11-17 10:00:00  4717.0\n",
              "3     2020-11-17 11:00:00  4356.0\n",
              "4     2020-11-17 12:00:00  4086.0\n",
              "...                   ...     ...\n",
              "13099 2022-05-17 04:00:00  5190.0\n",
              "13100 2022-05-17 05:00:00  5297.0\n",
              "13101 2022-05-17 06:00:00  5441.0\n",
              "13102 2022-05-17 07:00:00  5735.0\n",
              "13103 2022-05-17 08:00:00  5418.0\n",
              "\n",
              "[13104 rows x 2 columns]"
            ],
            "text/html": [
              "\n",
              "  <div id=\"df-82c79a2a-1fba-4035-99ec-044fe36814b1\">\n",
              "    <div class=\"colab-df-container\">\n",
              "      <div>\n",
              "<style scoped>\n",
              "    .dataframe tbody tr th:only-of-type {\n",
              "        vertical-align: middle;\n",
              "    }\n",
              "\n",
              "    .dataframe tbody tr th {\n",
              "        vertical-align: top;\n",
              "    }\n",
              "\n",
              "    .dataframe thead th {\n",
              "        text-align: right;\n",
              "    }\n",
              "</style>\n",
              "<table border=\"1\" class=\"dataframe\">\n",
              "  <thead>\n",
              "    <tr style=\"text-align: right;\">\n",
              "      <th></th>\n",
              "      <th>datetime</th>\n",
              "      <th>load</th>\n",
              "    </tr>\n",
              "  </thead>\n",
              "  <tbody>\n",
              "    <tr>\n",
              "      <th>0</th>\n",
              "      <td>2020-11-17 08:00:00</td>\n",
              "      <td>5159.0</td>\n",
              "    </tr>\n",
              "    <tr>\n",
              "      <th>1</th>\n",
              "      <td>2020-11-17 09:00:00</td>\n",
              "      <td>4985.0</td>\n",
              "    </tr>\n",
              "    <tr>\n",
              "      <th>2</th>\n",
              "      <td>2020-11-17 10:00:00</td>\n",
              "      <td>4717.0</td>\n",
              "    </tr>\n",
              "    <tr>\n",
              "      <th>3</th>\n",
              "      <td>2020-11-17 11:00:00</td>\n",
              "      <td>4356.0</td>\n",
              "    </tr>\n",
              "    <tr>\n",
              "      <th>4</th>\n",
              "      <td>2020-11-17 12:00:00</td>\n",
              "      <td>4086.0</td>\n",
              "    </tr>\n",
              "    <tr>\n",
              "      <th>...</th>\n",
              "      <td>...</td>\n",
              "      <td>...</td>\n",
              "    </tr>\n",
              "    <tr>\n",
              "      <th>13099</th>\n",
              "      <td>2022-05-17 04:00:00</td>\n",
              "      <td>5190.0</td>\n",
              "    </tr>\n",
              "    <tr>\n",
              "      <th>13100</th>\n",
              "      <td>2022-05-17 05:00:00</td>\n",
              "      <td>5297.0</td>\n",
              "    </tr>\n",
              "    <tr>\n",
              "      <th>13101</th>\n",
              "      <td>2022-05-17 06:00:00</td>\n",
              "      <td>5441.0</td>\n",
              "    </tr>\n",
              "    <tr>\n",
              "      <th>13102</th>\n",
              "      <td>2022-05-17 07:00:00</td>\n",
              "      <td>5735.0</td>\n",
              "    </tr>\n",
              "    <tr>\n",
              "      <th>13103</th>\n",
              "      <td>2022-05-17 08:00:00</td>\n",
              "      <td>5418.0</td>\n",
              "    </tr>\n",
              "  </tbody>\n",
              "</table>\n",
              "<p>13104 rows × 2 columns</p>\n",
              "</div>\n",
              "      <button class=\"colab-df-convert\" onclick=\"convertToInteractive('df-82c79a2a-1fba-4035-99ec-044fe36814b1')\"\n",
              "              title=\"Convert this dataframe to an interactive table.\"\n",
              "              style=\"display:none;\">\n",
              "        \n",
              "  <svg xmlns=\"http://www.w3.org/2000/svg\" height=\"24px\"viewBox=\"0 0 24 24\"\n",
              "       width=\"24px\">\n",
              "    <path d=\"M0 0h24v24H0V0z\" fill=\"none\"/>\n",
              "    <path d=\"M18.56 5.44l.94 2.06.94-2.06 2.06-.94-2.06-.94-.94-2.06-.94 2.06-2.06.94zm-11 1L8.5 8.5l.94-2.06 2.06-.94-2.06-.94L8.5 2.5l-.94 2.06-2.06.94zm10 10l.94 2.06.94-2.06 2.06-.94-2.06-.94-.94-2.06-.94 2.06-2.06.94z\"/><path d=\"M17.41 7.96l-1.37-1.37c-.4-.4-.92-.59-1.43-.59-.52 0-1.04.2-1.43.59L10.3 9.45l-7.72 7.72c-.78.78-.78 2.05 0 2.83L4 21.41c.39.39.9.59 1.41.59.51 0 1.02-.2 1.41-.59l7.78-7.78 2.81-2.81c.8-.78.8-2.07 0-2.86zM5.41 20L4 18.59l7.72-7.72 1.47 1.35L5.41 20z\"/>\n",
              "  </svg>\n",
              "      </button>\n",
              "      \n",
              "  <style>\n",
              "    .colab-df-container {\n",
              "      display:flex;\n",
              "      flex-wrap:wrap;\n",
              "      gap: 12px;\n",
              "    }\n",
              "\n",
              "    .colab-df-convert {\n",
              "      background-color: #E8F0FE;\n",
              "      border: none;\n",
              "      border-radius: 50%;\n",
              "      cursor: pointer;\n",
              "      display: none;\n",
              "      fill: #1967D2;\n",
              "      height: 32px;\n",
              "      padding: 0 0 0 0;\n",
              "      width: 32px;\n",
              "    }\n",
              "\n",
              "    .colab-df-convert:hover {\n",
              "      background-color: #E2EBFA;\n",
              "      box-shadow: 0px 1px 2px rgba(60, 64, 67, 0.3), 0px 1px 3px 1px rgba(60, 64, 67, 0.15);\n",
              "      fill: #174EA6;\n",
              "    }\n",
              "\n",
              "    [theme=dark] .colab-df-convert {\n",
              "      background-color: #3B4455;\n",
              "      fill: #D2E3FC;\n",
              "    }\n",
              "\n",
              "    [theme=dark] .colab-df-convert:hover {\n",
              "      background-color: #434B5C;\n",
              "      box-shadow: 0px 1px 3px 1px rgba(0, 0, 0, 0.15);\n",
              "      filter: drop-shadow(0px 1px 2px rgba(0, 0, 0, 0.3));\n",
              "      fill: #FFFFFF;\n",
              "    }\n",
              "  </style>\n",
              "\n",
              "      <script>\n",
              "        const buttonEl =\n",
              "          document.querySelector('#df-82c79a2a-1fba-4035-99ec-044fe36814b1 button.colab-df-convert');\n",
              "        buttonEl.style.display =\n",
              "          google.colab.kernel.accessAllowed ? 'block' : 'none';\n",
              "\n",
              "        async function convertToInteractive(key) {\n",
              "          const element = document.querySelector('#df-82c79a2a-1fba-4035-99ec-044fe36814b1');\n",
              "          const dataTable =\n",
              "            await google.colab.kernel.invokeFunction('convertToInteractive',\n",
              "                                                     [key], {});\n",
              "          if (!dataTable) return;\n",
              "\n",
              "          const docLinkHtml = 'Like what you see? Visit the ' +\n",
              "            '<a target=\"_blank\" href=https://colab.research.google.com/notebooks/data_table.ipynb>data table notebook</a>'\n",
              "            + ' to learn more about interactive tables.';\n",
              "          element.innerHTML = '';\n",
              "          dataTable['output_type'] = 'display_data';\n",
              "          await google.colab.output.renderOutput(dataTable, element);\n",
              "          const docLink = document.createElement('div');\n",
              "          docLink.innerHTML = docLinkHtml;\n",
              "          element.appendChild(docLink);\n",
              "        }\n",
              "      </script>\n",
              "    </div>\n",
              "  </div>\n",
              "  "
            ]
          },
          "metadata": {},
          "execution_count": 262
        }
      ]
    },
    {
      "cell_type": "code",
      "source": [
        "# The function below implements a time delay embedding technique for multivariate time series data.\n",
        "# The function takes in a DataFrame (data) containing the time series data, an integer (k) representing the embedding dimension\n",
        "  # (applied to all columns), an integer (horizon) representing the forecasting horizon, and a string (target_col) representing\n",
        "  # the target column.\n",
        "\n",
        "# The function first creates a list (iter_over_k) that contains the integers from k to 0 (inclusive) in descending order.\n",
        "# Next, it creates an empty list (X_cols) to store the input sequences for each column. The function then iterates over each column\n",
        "  # in the DataFrame, creates an empty list (X) for the input sequence, and for each integer in iter_over_k, it appends the\n",
        "  # shifted values ​​of the current column to the list X. The function then concatenates the input sequences for all columns, and assigns\n",
        "  # the column names as 'col-j-1' where j is the current element of iter_over_k.\n",
        "\n",
        "# The function then creates another list (y) for the forecast sequence, which is simply the shifted target column values.\n",
        "# The function concatenates the input and forecast sequences, and assigns the column names as 'target_col+i' where i is the current\n",
        "  # element of range(1, horizon + 1).\n",
        "\n",
        "# The function then concatenates the input sequences, forecast sequences and assigns the column names as 'col-j-1' where j is\n",
        "  # the current element of iter_over_k and 'target_col+i' where i is the current element of range(1, horizon + 1).\n",
        "\n",
        "# Finally, if drop_na is set to True, the function removes any rows with missing values, and returns the resulting DataFrame."
      ],
      "metadata": {
        "id": "mAGn8nHmyEke"
      },
      "execution_count": null,
      "outputs": []
    },
    {
      "cell_type": "code",
      "source": [
        "def MultivariateTDE(data: pd.DataFrame,\n",
        "                    k: int,\n",
        "                    horizon: int,\n",
        "                    target_col: str, drop_na: bool = True):\n",
        "    \"\"\"\n",
        "    time delay embedding for mv time series\n",
        "    :param data: multivariate time series as pd.DF\n",
        "    :param k: embedding dimension (applied to all cols)\n",
        "    :param horizon: forecasting horizon\n",
        "    :param target_col: string denoting the target column\n",
        "    :return: trainable data set\n",
        "    \"\"\"\n",
        "\n",
        "    iter_over_k = list(range(k, 0, -1))\n",
        "\n",
        "    X_cols = []\n",
        "    for col in data.columns:\n",
        "        # input sequence (t-n, ... t-1)\n",
        "        X, col_iter = [], []\n",
        "        for i in iter_over_k:\n",
        "            X.append(data[col].shift(i))\n",
        "\n",
        "        X = pd.concat(X, axis=1)\n",
        "        X.columns = [f'{col}-{j-1}' for j in iter_over_k]\n",
        "        X_cols.append(X)\n",
        "\n",
        "    X_cols = pd.concat(X_cols, axis=1)\n",
        "\n",
        "    # forecast sequence (t, t+1, ... t+n)\n",
        "    y = []\n",
        "    for i in range(0, horizon):\n",
        "        y.append(data[target_col].shift(-i))\n",
        "\n",
        "    y = pd.concat(y, axis=1)\n",
        "    y.columns = [f'{target_col}+{i}' for i in range(1, horizon + 1)]\n",
        "\n",
        "    data_set = pd.concat([X_cols, y], axis=1)\n",
        "\n",
        "    if drop_na:\n",
        "        data_set = data_set.dropna()\n",
        "\n",
        "    return data_set"
      ],
      "metadata": {
        "id": "U9NUCnYcPr47"
      },
      "execution_count": null,
      "outputs": []
    },
    {
      "cell_type": "code",
      "source": [
        "# The function below implements a time delay embedding technique for univariate time series data. The function takes in a Series\n",
        "  # (data) containing the time series data, an integer (k) representing the embedding dimension, an integer (horizon) representing\n",
        "  # the forecasting horizon and a boolean (drop_na) indicating whether to drop rows with missing values.\n",
        "\n",
        "# The function first converts the input Series into a DataFrame with a single column named 't'. It then calls the MultivariateTDE function,\n",
        "  # passing the new DataFrame, k, horizon and target_col='t' as arguments. The function then checks if drop_na is set to True, if so,\n",
        "  # it removes any rows with missing values, otherwise it does nothing, and reset the index of DataFrame.\n",
        "\n",
        "# Finally, the function returns the resulting DataFrame, which contains the time-delayed embeddings of the input univariate\n",
        "  # time series data."
      ],
      "metadata": {
        "id": "mJCXcGxrytkm"
      },
      "execution_count": null,
      "outputs": []
    },
    {
      "cell_type": "code",
      "source": [
        "def UnivariateTDE(data: pd.Series, k: int, horizon: int, drop_na: bool = True):\n",
        "    \"\"\"\n",
        "    time delay embedding for mv time series\n",
        "    :param data: multivariate time series as pd.DF\n",
        "    :param k: embedding dimension (applied to all cols)\n",
        "    :param horizon: forecasting horizon\n",
        "    :param target_col: string denoting the target column\n",
        "    :return: trainable data set\n",
        "    \"\"\"\n",
        "\n",
        "    s = pd.DataFrame({'t': data})\n",
        "    df = MultivariateTDE(data=s, k=k, horizon=horizon, target_col='t')\n",
        "    if drop_na:\n",
        "        df = df.dropna().reset_index(drop=True)\n",
        "    else:\n",
        "        df = df.reset_index(drop=True)\n",
        "\n",
        "    return df"
      ],
      "metadata": {
        "id": "lRJYQIiyP9Cb"
      },
      "execution_count": null,
      "outputs": []
    },
    {
      "cell_type": "code",
      "source": [
        "def time_delay_embedding(series: pd.Series, n_lags: int, horizon: int):\n",
        "    \"\"\"\n",
        "    Time delay embedding\n",
        "    Time series for supervised learning\n",
        "    :param series: time series as pd.Series\n",
        "    :param n_lags: number of past values to used as explanatory variables\n",
        "    :param horizon: how many values to forecast\n",
        "    :return: pd.DataFrame with reconstructed time series\n",
        "    \"\"\"\n",
        "    n_lags_iter = list(range(n_lags, -horizon, -1))\n",
        "\n",
        "    X = [series.shift(i) for i in n_lags_iter]\n",
        "    X = pd.concat(X, axis=1)\n",
        "    X.columns = [f't-{j - 1}' if j > 0 else f't+{np.abs(j) + 1}'\n",
        "                 for j in n_lags_iter]\n",
        "\n",
        "    return X"
      ],
      "metadata": {
        "id": "sJUtDDCEQCHC"
      },
      "execution_count": null,
      "outputs": []
    },
    {
      "cell_type": "code",
      "source": [
        "# The function above, first creates a list (n_lags_iter) that contains the integers from n_lags to -horizon (inclusive) in descending order.\n",
        "# Next, it creates an empty list (X) to store the input sequences. The function then iterates over each element of n_lags_iter,\n",
        "  # and appends the shifted values of the input series to the list X.\n",
        "\n",
        "# The function then concatenates the input sequences, assigns the columns names as 't-j-1' if j is positive or 't+np.abs(j)+1' if j is\n",
        "  # negative.\n",
        "\n",
        "# Finally, the function returns the resulting DataFrame, which contains the time-delayed embeddings of the input univariate time series\n",
        "  # data."
      ],
      "metadata": {
        "id": "NnELwVi7zAQF"
      },
      "execution_count": null,
      "outputs": []
    },
    {
      "cell_type": "code",
      "source": [
        "# Creating a new Series (series2) using the values of the 'load' column of a DataFrame (data) and sets the index of the Series\n",
        "  # to the values of the 'datetime' column of the DataFrame, converting them to datetime objects using the pd.to_datetime() function:\n",
        "\n",
        "series2 = pd.Series(data['load'].values, index = pd.to_datetime(data['datetime']))\n",
        "series2.plot()\n",
        "\n",
        "# Predict the next value based on the previous 6:\n",
        "\n",
        "series2_tde = UnivariateTDE(series2.diff(), horizon=1, k=6)\n",
        "series2_tde.head()\n",
        "\n",
        "# This line of code is creating a new DataFrame, series2_tde, which contains the time-delayed embeddings of the input univariate\n",
        "  # time series data, using 6 lags and forecasting 1 step ahead. is calling the UnivariateTDE function with the input series2.diff() which\n",
        "  # is the first order difference of the series2, an horizon of 1 and a k of 6. The UnivariateTDE function is a time delay embedding\n",
        "  # technique for univariate time series data.\n",
        "# By applying the difference method to the series, it is making sure that the series is stationary,\n",
        "  # making it better for the time series forecasting.\n",
        "\n",
        "# Separate explanatory variables from the objective variable:\n",
        "\n",
        "X = series2_tde.drop('t+1', axis=1)\n",
        "y = series2_tde['t+1']\n",
        "\n",
        "# This code is splitting the series2_tde DataFrame into two separate objects:\n",
        "  # X: a DataFrame that contains all columns except for the 't+1' column, which is dropped using the .drop() method and passing 't+1'\n",
        "    # as the first argument and specifying that the operation should be done on columns (axis=1).\n",
        "  # y: a Series that contains the values ​​of the 't+1' column of the original DataFrame.\n",
        "\n",
        "# X and y will be used as input and output in a supervised learning problem respectively. The X dataframe contains all the lagged values\n",
        "  # ​​and y dataframe contains the next step value for forecasting."
      ],
      "metadata": {
        "colab": {
          "base_uri": "https://localhost:8080/",
          "height": 277
        },
        "id": "npalLAkpQIWq",
        "outputId": "3ca2f52b-40ba-4a04-f9da-d4be6e8ef279"
      },
      "execution_count": null,
      "outputs": [
        {
          "output_type": "display_data",
          "data": {
            "text/plain": [
              "<Figure size 432x288 with 1 Axes>"
            ],
            "image/png": "[encoded data removed]"
          },
          "metadata": {
            "needs_background": "light"
          }
        }
      ]
    },
    {
      "cell_type": "code",
      "source": [
        "# TRAINING TEST:\n",
        "\n",
        "# This code next then, will using the train_test_split function from the scikit-learn library to split the X and y DataFrames into\n",
        "  # four separate objects:\n",
        "\n",
        "  # X_train: a DataFrame containing 70% of the rows of the original X DataFrame, that will be used to train the model.\n",
        "  # X_test: a DataFrame containing 30% of the rows of the original X DataFrame, that will be used to evaluate the model.\n",
        "  # y_train: a Series containing 70% of the rows of the original y Series, that will be used to train the model.\n",
        "  # y_test: a Series containing 30% of the rows of the original y Series, that will be used to evaluate the model.\n",
        "\n",
        "# The train_test_split function uses the test_size parameter (0.3) to determine the proportion of the data that should be allocated\n",
        "  # to the test set, and the shuffle parameter (False) to determine whether the rows should be shuffled before splitting.\n",
        "\n",
        "# The following two lines of code are calling the head() method on the resulting X_train and y_train objects, which display the first\n",
        "  # five rows of the DataFrames/Series.\n",
        "\n",
        "# This process of splitting the data into training and testing sets is an important step in evaluating the performance of the model,\n",
        "  # as it allows to evaluate the model on unseen data and get a better idea of how well the model will perform on new data."
      ],
      "metadata": {
        "id": "lcWxXC5wN-b0"
      },
      "execution_count": null,
      "outputs": []
    },
    {
      "cell_type": "code",
      "source": [
        "X_train, X_test, y_train, y_test = train_test_split(X, y, test_size=0.3, shuffle=False)\n",
        "X_train.head()\n",
        "y_train.head()"
      ],
      "metadata": {
        "colab": {
          "base_uri": "https://localhost:8080/"
        },
        "id": "a3HrohQ1QoHS",
        "outputId": "f3e6b5da-3d29-4747-9137-906c51e850d7"
      },
      "execution_count": null,
      "outputs": [
        {
          "output_type": "execute_result",
          "data": {
            "text/plain": [
              "0    -28.0\n",
              "1   -177.0\n",
              "2    -24.0\n",
              "3    326.0\n",
              "4    450.0\n",
              "Name: t+1, dtype: float64"
            ]
          },
          "metadata": {},
          "execution_count": 271
        }
      ]
    },
    {
      "cell_type": "code",
      "source": [
        "# At next, we will perform time series cross-validation.\n",
        "\n",
        "# The TimeSeriesSplit class is a variation of the KFold class that creates splits by preserving the time order of the data.\n",
        "  # The code first creates an instance of the TimeSeriesSplit class (cv) with n_splits=5, which indicates that the data should be split\n",
        "  # into 5 folds.\n",
        "\n",
        "# The code then creates an empty list (cv_err) to store the cross-validation errors.\n",
        "# The code then uses a for loop to iterate over the splits generated by the TimeSeriesSplit object,\n",
        "  # where for each split, it extracts the training indices (tr_idx) and test indices (ts_idx) from the X_train and y_train DataFrames.\n",
        "  # It then uses the indices to extract the corresponding training and validation sets from the X_train and y_train DataFrames and converts\n",
        "  # them into numpy arrays using the .values ​​attribute.\n",
        "\n",
        "# It then creates an instance of the Ridge model, which is a linear regression model with L2 regularization, and fits it to the\n",
        "  # training data using the .fit() method.\n",
        "  \n",
        "# It then makes predictions on the validation set using the .predict() method and computes the mean absolute error (MAE) between the\n",
        "  # predicted values ​​and the true values ​​using the mean_absolute_error() function from scikit-learn library.\n",
        "\n",
        "# Finally, it appends the computed MAE to the cv_err list and prints the list of errors at the end of the loop.\n",
        "\n",
        "# The code is performing a cross validation of 5 splits, training the model on each split, making predictions and then computing the\n",
        "# mean absolute error. These errors are then printed at the end of the loop, giving an idea of ​​how well the model is performing on average."
      ],
      "metadata": {
        "id": "I8_QtGvXQkVs"
      },
      "execution_count": null,
      "outputs": []
    },
    {
      "cell_type": "code",
      "source": [
        "# THE PERFORM TIME SERIES CROSS-VALIDATION:\n",
        "\n",
        "cv = TimeSeriesSplit(n_splits=5)\n",
        "\n",
        "cv_err = []\n",
        "for tr_idx, ts_idx in cv.split(X_train, y_train):\n",
        "    print('Training indices:')\n",
        "    print(tr_idx[-5:])\n",
        "    X_tr = X_train.values[tr_idx]\n",
        "    y_tr = y_train.values[tr_idx]\n",
        "\n",
        "    X_vl = X_train.values[ts_idx]\n",
        "    y_vl = y_train.values[ts_idx]\n",
        "\n",
        "    print('Training the model')\n",
        "    model = Ridge()\n",
        "\n",
        "    model.fit(X_tr, y_tr)\n",
        "    print('Making predictions')\n",
        "    pred = model.predict(X_vl)\n",
        "\n",
        "    print('Computing error')\n",
        "    err = mean_absolute_error(y_vl, pred)\n",
        "    cv_err.append(err)\n",
        "\n",
        "    \n",
        "print(cv_err)"
      ],
      "metadata": {
        "colab": {
          "base_uri": "https://localhost:8080/"
        },
        "id": "F5r8DwT7S1wE",
        "outputId": "4dda7686-9fd8-407c-a07c-e41c57e29fd2"
      },
      "execution_count": null,
      "outputs": [
        {
          "output_type": "stream",
          "name": "stdout",
          "text": [
            "Training indices:\n",
            "[1521 1522 1523 1524 1525]\n",
            "Training the model\n",
            "Making predictions\n",
            "Computing error\n",
            "Training indices:\n",
            "[3047 3048 3049 3050 3051]\n",
            "Training the model\n",
            "Making predictions\n",
            "Computing error\n",
            "Training indices:\n",
            "[4573 4574 4575 4576 4577]\n",
            "Training the model\n",
            "Making predictions\n",
            "Computing error\n",
            "Training indices:\n",
            "[6099 6100 6101 6102 6103]\n",
            "Training the model\n",
            "Making predictions\n",
            "Computing error\n",
            "Training indices:\n",
            "[7625 7626 7627 7628 7629]\n",
            "Training the model\n",
            "Making predictions\n",
            "Computing error\n",
            "[193.8038781829432, 177.2556403234534, 163.45784476469618, 183.44271803642727, 196.6254559637618]\n"
          ]
        }
      ]
    },
    {
      "cell_type": "code",
      "source": [
        "# This line below is providing the average error of cross validation, which is an indication of how well the model is\n",
        "  # performing on average across all the splits. A smaller average error indicates a better model performance. This error\n",
        "  # metric can be used to compare different models and select the best one.\n",
        "\n",
        "# Cross estimation validation error:\n",
        "\n",
        "print(f'Average error is: {np.mean(cv_err)}')"
      ],
      "metadata": {
        "colab": {
          "base_uri": "https://localhost:8080/"
        },
        "id": "2Qt_Znl1RTkD",
        "outputId": "18b7eeea-234f-44d9-cd90-1d234f29b55c"
      },
      "execution_count": null,
      "outputs": [
        {
          "output_type": "stream",
          "name": "stdout",
          "text": [
            "Average error is: 182.91710745425638\n"
          ]
        }
      ]
    },
    {
      "cell_type": "code",
      "source": [
        "# The error results:\n",
        "model = Ridge()\n",
        "model.fit(X_train, y_train)\n",
        "pred_test = model.predict(X_test)\n",
        "err_test = mean_absolute_error(y_test, pred_test)\n",
        "print(f'Test error is: {err_test}')\n",
        "\n",
        "# The code above creates a Ridge regression model, fits it to the training data (X_train and y_train), makes predictions on the test\n",
        "  # data (X_test) and calculates the mean absolute error (MAE) between the true test labels (y_test) and the predicted test labels\n",
        "  # (pred_test)."
      ],
      "metadata": {
        "colab": {
          "base_uri": "https://localhost:8080/"
        },
        "id": "7CH9OgxuWXp7",
        "outputId": "cd5a5253-c03a-48c0-f9e7-d2763abb74be"
      },
      "execution_count": null,
      "outputs": [
        {
          "output_type": "stream",
          "name": "stdout",
          "text": [
            "Test error is: 195.08461571155678\n"
          ]
        }
      ]
    },
    {
      "cell_type": "code",
      "source": [
        "# Model Selection:\n",
        "\n",
        "model_list = {\n",
        "    'Ridge': Ridge(),\n",
        "    'Lasso': Lasso(),\n",
        "    'RandomForestRegressor': RandomForestRegressor(n_estimators=10),\n",
        "    'DecisionTreeRegressor': DecisionTreeRegressor(),\n",
        "    'KNeighborsRegressor': KNeighborsRegressor(),\n",
        "}"
      ],
      "metadata": {
        "id": "ha8PQJvlXkCd"
      },
      "execution_count": null,
      "outputs": []
    },
    {
      "cell_type": "code",
      "source": [
        "# Underneath, loops through each of the models in the 'model_list' dictionary, and for each one, it performs k-fold cross-validation\n",
        "  # using the 'cross_val_score' function from scikit-learn library. The 'X_train' and 'y_train' data are passed as the input features\n",
        "  # and labels to the 'cross_val_score' function. It uses the 'neg_mean_absolute_error' as the scoring metric for the cross-validation.\n",
        "\n",
        "# Then it is storing the mean absolute error (MAE) from the cross-validation for each model in the 'err_by_method' dictionary,\n",
        "  # where the key is the name of the method and the value is the mean absolute error.\n",
        "\n",
        "# Finally it creates a bar plot using the Pandas library to visualize the MAE of each model. The series is created using the\n",
        "  # 'err_by_method' dictionary and plot method .bar() is used to create the bar plot. "
      ],
      "metadata": {
        "id": "kFomQ7oi13o2"
      },
      "execution_count": null,
      "outputs": []
    },
    {
      "cell_type": "code",
      "source": [
        "err_by_method = {}\n",
        "for method in model_list:\n",
        "    print(f'Running model: {method}')\n",
        "    cv_error = cross_val_score(model_list[method],\n",
        "                               X_train,\n",
        "                               y_train,\n",
        "                               cv=cv,\n",
        "                               scoring='neg_mean_absolute_error')\n",
        "\n",
        "    err_by_method[method] = -np.mean(cv_error)\n",
        "\n",
        "pd.Series(err_by_method).plot.bar()\n",
        "\n",
        "pprint(err_by_method)"
      ],
      "metadata": {
        "colab": {
          "base_uri": "https://localhost:8080/",
          "height": 550
        },
        "id": "8ijoaLISRjp6",
        "outputId": "7a139423-705b-4b03-a9d3-7f4796beb7e4"
      },
      "execution_count": null,
      "outputs": [
        {
          "output_type": "stream",
          "name": "stdout",
          "text": [
            "Running model: Ridge\n",
            "Running model: Lasso\n",
            "Running model: RandomForestRegressor\n",
            "Running model: DecisionTreeRegressor\n",
            "Running model: KNeighborsRegressor\n",
            "{'DecisionTreeRegressor': 159.31664482306684,\n",
            " 'KNeighborsRegressor': 126.36587155963302,\n",
            " 'Lasso': 182.9179423614517,\n",
            " 'RandomForestRegressor': 130.0085976408912,\n",
            " 'Ridge': 182.91710745425638}\n"
          ]
        },
        {
          "output_type": "display_data",
          "data": {
            "text/plain": [
              "<Figure size 432x288 with 1 Axes>"
            ],
            "image/png": "[encoded data removed]"
          },
          "metadata": {
            "needs_background": "light"
          }
        }
      ]
    },
    {
      "cell_type": "code",
      "source": [
        "# Parameter Selection:\n",
        "\n",
        "parameters = {'weights': ['uniform', 'distance'],\n",
        "              'n_neighbors': [1, 5, 10]}\n",
        "\n",
        "model = KNeighborsRegressor()\n",
        "cv = TimeSeriesSplit(n_splits=5)\n",
        "\n",
        "grid_search = GridSearchCV(estimator=model,\n",
        "                           param_grid=parameters,\n",
        "                           cv=cv, \n",
        "                           refit=True)\n",
        "\n",
        "grid_search.fit(X_train, y_train)\n",
        "grid_search.best_estimator_\n",
        "\n",
        "pred_test_best = grid_search.predict(X_test)\n",
        "err_test = mean_absolute_error(y_test, pred_test_best)\n",
        "\n",
        "print(f'Test error is: {err_test}')\n",
        "\n",
        "# The above code is doing hyperparameter tuning for the KNeighborsRegressor model by performing a grid search with cross-validation.\n",
        "# It is using a TimeSeriesSplit cross-validator with 5 splits and it is setting two parameters for tuning: 'weights' and 'n_neighbors'.\n",
        "# The 'weights' parameter has two options 'uniform' and 'distance' and 'n_neighbors' has options 1,5,10.\n",
        "\n",
        "# A GridSearchCV object is created with the estimator (model), parameter grid, cross-validator, and 'refit=True' which will refit the best\n",
        "  # estimator using the entire dataset after the grid search. The GridSearchCV object is then fitted to the training data (X_train, y_train).\n",
        "  \n",
        "# The best estimator is stored in the grid_search.best_estimator_ attribute, and the prediction is made on the test dataset using\n",
        "  # the grid_search.predict() method. Finally, it calculates the mean absolute error between the true test labels and the predicted test\n",
        "  # labels."
      ],
      "metadata": {
        "colab": {
          "base_uri": "https://localhost:8080/"
        },
        "id": "VNrl2VZWSxN7",
        "outputId": "0f2b6947-9d5b-4a6f-94ab-e65bb4cd48ea"
      },
      "execution_count": null,
      "outputs": [
        {
          "output_type": "stream",
          "name": "stdout",
          "text": [
            "Test error is: 87.50451303515581\n"
          ]
        }
      ]
    }
  ]
}